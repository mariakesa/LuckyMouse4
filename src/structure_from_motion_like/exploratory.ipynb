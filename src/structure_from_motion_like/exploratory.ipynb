{
 "cells": [
  {
   "cell_type": "code",
   "execution_count": 1,
   "id": "2d4798f7",
   "metadata": {},
   "outputs": [],
   "source": [
    "import pandas as pd\n",
    "import numpy as np\n",
    "from sklearn.decomposition import PCA\n",
    "import matplotlib.pyplot as plt\n",
    "\n",
    "unified_data_path = '/home/maria/LuckyMouse4/data/unified_neuron_data.pkl'\n",
    "\n",
    "df = pd.read_pickle(unified_data_path)\n",
    "visp_neurons_non_significant = df[(df['brain_area'] == 'VISp') & (df['status'] == 'non_significant')]\n",
    "visp_neurons_significant = df[(df['brain_area'] == 'VISp') & (df['status'] == 'significant')]\n",
    "non_significant = np.vstack(visp_neurons_non_significant['vector'].to_numpy()) \n",
    "significant = np.vstack(visp_neurons_significant['vector'].to_numpy()) "
   ]
  },
  {
   "cell_type": "code",
   "execution_count": 5,
   "id": "5b6fa29e",
   "metadata": {},
   "outputs": [
    {
     "data": {
      "text/plain": [
       "(array([414., 203., 102.,  62.,  31.,   8.,   6.,   3.,   1.,   1.]),\n",
       " array([0.1001 , 0.14549, 0.19088, 0.23627, 0.28166, 0.32705, 0.37244,\n",
       "        0.41783, 0.46322, 0.50861, 0.554  ]),\n",
       " <BarContainer object of 10 artists>)"
      ]
     },
     "execution_count": 5,
     "metadata": {},
     "output_type": "execute_result"
    },
    {
     "data": {
      "image/png": "[encoded data removed]",
      "text/plain": [
       "<Figure size 640x480 with 1 Axes>"
      ]
     },
     "metadata": {},
     "output_type": "display_data"
    }
   ],
   "source": [
    "plt.hist(visp_neurons_significant['r2'])\n"
   ]
  },
  {
   "cell_type": "code",
   "execution_count": 8,
   "id": "83f12a1c",
   "metadata": {},
   "outputs": [
    {
     "data": {
      "text/html": [
       "<div>\n",
       "<style scoped>\n",
       "    .dataframe tbody tr th:only-of-type {\n",
       "        vertical-align: middle;\n",
       "    }\n",
       "\n",
       "    .dataframe tbody tr th {\n",
       "        vertical-align: top;\n",
       "    }\n",
       "\n",
       "    .dataframe thead th {\n",
       "        text-align: right;\n",
       "    }\n",
       "</style>\n",
       "<table border=\"1\" class=\"dataframe\">\n",
       "  <thead>\n",
       "    <tr style=\"text-align: right;\">\n",
       "      <th></th>\n",
       "      <th>neuron_idx</th>\n",
       "      <th>r2</th>\n",
       "      <th>status</th>\n",
       "      <th>brain_area</th>\n",
       "      <th>vector</th>\n",
       "    </tr>\n",
       "  </thead>\n",
       "  <tbody>\n",
       "    <tr>\n",
       "      <th>226</th>\n",
       "      <td>226</td>\n",
       "      <td>0.2043</td>\n",
       "      <td>significant</td>\n",
       "      <td>VISp</td>\n",
       "      <td>[-0.055936078770752407, -0.02689564060891433, ...</td>\n",
       "    </tr>\n",
       "    <tr>\n",
       "      <th>231</th>\n",
       "      <td>231</td>\n",
       "      <td>0.2803</td>\n",
       "      <td>significant</td>\n",
       "      <td>VISp</td>\n",
       "      <td>[-0.01544248342239133, -0.08210408250213849, -...</td>\n",
       "    </tr>\n",
       "    <tr>\n",
       "      <th>332</th>\n",
       "      <td>332</td>\n",
       "      <td>0.2103</td>\n",
       "      <td>significant</td>\n",
       "      <td>VISp</td>\n",
       "      <td>[-0.08060348245949957, -0.02085748530442501, 0...</td>\n",
       "    </tr>\n",
       "    <tr>\n",
       "      <th>346</th>\n",
       "      <td>346</td>\n",
       "      <td>0.3062</td>\n",
       "      <td>significant</td>\n",
       "      <td>VISp</td>\n",
       "      <td>[-0.052995715150351445, -0.07442705714172015, ...</td>\n",
       "    </tr>\n",
       "    <tr>\n",
       "      <th>395</th>\n",
       "      <td>395</td>\n",
       "      <td>0.2330</td>\n",
       "      <td>significant</td>\n",
       "      <td>VISp</td>\n",
       "      <td>[-0.048664026663238234, -0.06937095029993846, ...</td>\n",
       "    </tr>\n",
       "    <tr>\n",
       "      <th>...</th>\n",
       "      <td>...</td>\n",
       "      <td>...</td>\n",
       "      <td>...</td>\n",
       "      <td>...</td>\n",
       "      <td>...</td>\n",
       "    </tr>\n",
       "    <tr>\n",
       "      <th>37652</th>\n",
       "      <td>37652</td>\n",
       "      <td>0.2377</td>\n",
       "      <td>significant</td>\n",
       "      <td>VISp</td>\n",
       "      <td>[0.027831263906471025, -0.02557096085015823, -...</td>\n",
       "    </tr>\n",
       "    <tr>\n",
       "      <th>37778</th>\n",
       "      <td>37778</td>\n",
       "      <td>0.2051</td>\n",
       "      <td>significant</td>\n",
       "      <td>VISp</td>\n",
       "      <td>[-0.043064267764610954, 0.027486711706432354, ...</td>\n",
       "    </tr>\n",
       "    <tr>\n",
       "      <th>37796</th>\n",
       "      <td>37796</td>\n",
       "      <td>0.2216</td>\n",
       "      <td>significant</td>\n",
       "      <td>VISp</td>\n",
       "      <td>[-0.030499907606393723, 0.010113291108040549, ...</td>\n",
       "    </tr>\n",
       "    <tr>\n",
       "      <th>37827</th>\n",
       "      <td>37827</td>\n",
       "      <td>0.3108</td>\n",
       "      <td>significant</td>\n",
       "      <td>VISp</td>\n",
       "      <td>[-0.0323130391122368, 0.017259317290467896, -0...</td>\n",
       "    </tr>\n",
       "    <tr>\n",
       "      <th>37864</th>\n",
       "      <td>37864</td>\n",
       "      <td>0.3015</td>\n",
       "      <td>significant</td>\n",
       "      <td>VISp</td>\n",
       "      <td>[0.03866131367851296, -0.05075165336550362, 0....</td>\n",
       "    </tr>\n",
       "  </tbody>\n",
       "</table>\n",
       "<p>184 rows × 5 columns</p>\n",
       "</div>"
      ],
      "text/plain": [
       "       neuron_idx      r2       status brain_area  \\\n",
       "226           226  0.2043  significant       VISp   \n",
       "231           231  0.2803  significant       VISp   \n",
       "332           332  0.2103  significant       VISp   \n",
       "346           346  0.3062  significant       VISp   \n",
       "395           395  0.2330  significant       VISp   \n",
       "...           ...     ...          ...        ...   \n",
       "37652       37652  0.2377  significant       VISp   \n",
       "37778       37778  0.2051  significant       VISp   \n",
       "37796       37796  0.2216  significant       VISp   \n",
       "37827       37827  0.3108  significant       VISp   \n",
       "37864       37864  0.3015  significant       VISp   \n",
       "\n",
       "                                                  vector  \n",
       "226    [-0.055936078770752407, -0.02689564060891433, ...  \n",
       "231    [-0.01544248342239133, -0.08210408250213849, -...  \n",
       "332    [-0.08060348245949957, -0.02085748530442501, 0...  \n",
       "346    [-0.052995715150351445, -0.07442705714172015, ...  \n",
       "395    [-0.048664026663238234, -0.06937095029993846, ...  \n",
       "...                                                  ...  \n",
       "37652  [0.027831263906471025, -0.02557096085015823, -...  \n",
       "37778  [-0.043064267764610954, 0.027486711706432354, ...  \n",
       "37796  [-0.030499907606393723, 0.010113291108040549, ...  \n",
       "37827  [-0.0323130391122368, 0.017259317290467896, -0...  \n",
       "37864  [0.03866131367851296, -0.05075165336550362, 0....  \n",
       "\n",
       "[184 rows x 5 columns]"
      ]
     },
     "execution_count": 8,
     "metadata": {},
     "output_type": "execute_result"
    }
   ],
   "source": [
    "visp_neurons_significant[visp_neurons_significant['r2']>=0.2]"
   ]
  },
  {
   "cell_type": "code",
   "execution_count": 9,
   "id": "4177d604",
   "metadata": {},
   "outputs": [],
   "source": [
    "neuron_response=np.load('/home/maria/LuckyMouse4/data/hybrid_neural_responses.npy')[37827]"
   ]
  },
  {
   "cell_type": "code",
   "execution_count": 10,
   "id": "acf05efd",
   "metadata": {},
   "outputs": [
    {
     "data": {
      "text/plain": [
       "(5900,)"
      ]
     },
     "execution_count": 10,
     "metadata": {},
     "output_type": "execute_result"
    }
   ],
   "source": [
    "neuron_response.shape"
   ]
  }
 ],
 "metadata": {
  "kernelspec": {
   "display_name": ".venv",
   "language": "python",
   "name": "python3"
  },
  "language_info": {
   "codemirror_mode": {
    "name": "ipython",
    "version": 3
   },
   "file_extension": ".py",
   "mimetype": "text/x-python",
   "name": "python",
   "nbconvert_exporter": "python",
   "pygments_lexer": "ipython3",
   "version": "3.10.17"
  }
 },
 "nbformat": 4,
 "nbformat_minor": 5
}
