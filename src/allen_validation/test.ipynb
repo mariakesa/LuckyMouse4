{
 "cells": [
  {
   "cell_type": "code",
   "execution_count": null,
   "id": "702c4af8",
   "metadata": {},
   "outputs": [
    {
     "name": "stdout",
     "output_type": "stream",
     "text": [
      "all targeted structures: ['VISal', 'VISam', 'VISl', 'VISp', 'VISpm', 'VISrl']\n"
     ]
    }
   ],
   "source": [
    "from allensdk.core.brain_observatory_cache import BrainObservatoryCache\n",
    "import pprint\n",
    "from pathlib import Path\n",
    "# This class uses a 'manifest' to keep track of downloaded data and metadata.  \n",
    "# All downloaded files will be stored relative to the directory holding the manifest\n",
    "# file.  If 'manifest_file' is a relative path (as it is below), it will be \n",
    "# saved relative to your working directory.  It can also be an absolute path.\n",
    "boc =  BrainObservatoryCache(\n",
    "    manifest_file=str(Path('/home/maria/Documents/AllenBrainObservatory') / 'brain_observatory_manifest.json'))\n",
    "\n",
    "# Download a list of all targeted areas\n",
    "targeted_structures = boc.get_all_targeted_structures()\n",
    "print(\"all targeted structures: \" + str(targeted_structures))\n",
    "\n"
   ]
  },
  {
   "cell_type": "code",
   "execution_count": 12,
   "id": "32582ffd",
   "metadata": {},
   "outputs": [],
   "source": [
    "exps = boc.get_experiment_containers(ids=[517409552])"
   ]
  },
  {
   "cell_type": "code",
   "execution_count": 13,
   "id": "9b25d710",
   "metadata": {},
   "outputs": [],
   "source": [
    "import pandas as pd\n",
    "\n",
    "# Download cells for a set of experiments and convert to DataFrame\n",
    "cells = boc.get_cell_specimens()\n",
    "cells = pd.DataFrame.from_records(cells)"
   ]
  },
  {
   "cell_type": "code",
   "execution_count": 18,
   "id": "ab30cef8",
   "metadata": {},
   "outputs": [
    {
     "data": {
      "text/html": [
       "<div>\n",
       "<style scoped>\n",
       "    .dataframe tbody tr th:only-of-type {\n",
       "        vertical-align: middle;\n",
       "    }\n",
       "\n",
       "    .dataframe tbody tr th {\n",
       "        vertical-align: top;\n",
       "    }\n",
       "\n",
       "    .dataframe thead th {\n",
       "        text-align: right;\n",
       "    }\n",
       "</style>\n",
       "<table border=\"1\" class=\"dataframe\">\n",
       "  <thead>\n",
       "    <tr style=\"text-align: right;\">\n",
       "      <th></th>\n",
       "      <th>all_stim</th>\n",
       "      <th>area</th>\n",
       "      <th>cell_specimen_id</th>\n",
       "      <th>donor_full_genotype</th>\n",
       "      <th>dsi_dg</th>\n",
       "      <th>experiment_container_id</th>\n",
       "      <th>failed_experiment_container</th>\n",
       "      <th>g_dsi_dg</th>\n",
       "      <th>g_osi_dg</th>\n",
       "      <th>g_osi_sg</th>\n",
       "      <th>...</th>\n",
       "      <th>specimen_id</th>\n",
       "      <th>tfdi_dg</th>\n",
       "      <th>time_to_peak_ns</th>\n",
       "      <th>time_to_peak_sg</th>\n",
       "      <th>tld1_id</th>\n",
       "      <th>tld1_name</th>\n",
       "      <th>tld2_id</th>\n",
       "      <th>tld2_name</th>\n",
       "      <th>tlr1_id</th>\n",
       "      <th>tlr1_name</th>\n",
       "    </tr>\n",
       "  </thead>\n",
       "  <tbody>\n",
       "    <tr>\n",
       "      <th>1023</th>\n",
       "      <td>True</td>\n",
       "      <td>VISp</td>\n",
       "      <td>517409552</td>\n",
       "      <td>Cux2-CreERT2/wt;Camk2a-tTA/wt;Ai93(TITL-GCaMP6...</td>\n",
       "      <td>0.513873</td>\n",
       "      <td>511509529</td>\n",
       "      <td>False</td>\n",
       "      <td>0.244311</td>\n",
       "      <td>0.034427</td>\n",
       "      <td>0.656206</td>\n",
       "      <td>...</td>\n",
       "      <td>495726993</td>\n",
       "      <td>0.322153</td>\n",
       "      <td>0.3317</td>\n",
       "      <td>0.19902</td>\n",
       "      <td>177839004</td>\n",
       "      <td>Cux2-CreERT2</td>\n",
       "      <td>177837320.0</td>\n",
       "      <td>Camk2a-tTA</td>\n",
       "      <td>265943423</td>\n",
       "      <td>Ai93(TITL-GCaMP6f)</td>\n",
       "    </tr>\n",
       "  </tbody>\n",
       "</table>\n",
       "<p>1 rows × 60 columns</p>\n",
       "</div>"
      ],
      "text/plain": [
       "      all_stim  area  cell_specimen_id  \\\n",
       "1023      True  VISp         517409552   \n",
       "\n",
       "                                    donor_full_genotype    dsi_dg  \\\n",
       "1023  Cux2-CreERT2/wt;Camk2a-tTA/wt;Ai93(TITL-GCaMP6...  0.513873   \n",
       "\n",
       "      experiment_container_id  failed_experiment_container  g_dsi_dg  \\\n",
       "1023                511509529                        False  0.244311   \n",
       "\n",
       "      g_osi_dg  g_osi_sg  ...  specimen_id   tfdi_dg  time_to_peak_ns  \\\n",
       "1023  0.034427  0.656206  ...    495726993  0.322153           0.3317   \n",
       "\n",
       "      time_to_peak_sg    tld1_id     tld1_name      tld2_id   tld2_name  \\\n",
       "1023          0.19902  177839004  Cux2-CreERT2  177837320.0  Camk2a-tTA   \n",
       "\n",
       "        tlr1_id           tlr1_name  \n",
       "1023  265943423  Ai93(TITL-GCaMP6f)  \n",
       "\n",
       "[1 rows x 60 columns]"
      ]
     },
     "execution_count": 18,
     "metadata": {},
     "output_type": "execute_result"
    }
   ],
   "source": [
    "cells[cells['cell_specimen_id']==517409552]"
   ]
  }
 ],
 "metadata": {
  "kernelspec": {
   "display_name": ".venv",
   "language": "python",
   "name": "python3"
  },
  "language_info": {
   "codemirror_mode": {
    "name": "ipython",
    "version": 3
   },
   "file_extension": ".py",
   "mimetype": "text/x-python",
   "name": "python",
   "nbconvert_exporter": "python",
   "pygments_lexer": "ipython3",
   "version": "3.10.17"
  }
 },
 "nbformat": 4,
 "nbformat_minor": 5
}
